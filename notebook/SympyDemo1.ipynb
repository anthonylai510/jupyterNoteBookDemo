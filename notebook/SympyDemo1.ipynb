{
 "cells": [
  {
   "cell_type": "code",
   "execution_count": 1,
   "metadata": {},
   "outputs": [],
   "source": [
    "from sympy import Symbol, cos, sin, Function\n",
    "from sympy.physics.vector import ReferenceFrame, CoordinateSym\n",
    "#from sympy.physics.vector import * \n",
    "R = ReferenceFrame('R')"
   ]
  },
  {
   "cell_type": "code",
   "execution_count": 2,
   "metadata": {},
   "outputs": [
    {
     "data": {
      "text/latex": [
       "$\\displaystyle \\mathbf{\\hat{r}_x}$"
      ],
      "text/plain": [
       "R.x"
      ]
     },
     "execution_count": 2,
     "metadata": {},
     "output_type": "execute_result"
    }
   ],
   "source": [
    "R.x"
   ]
  },
  {
   "cell_type": "code",
   "execution_count": 3,
   "metadata": {},
   "outputs": [
    {
     "data": {
      "text/latex": [
       "$\\displaystyle \\mathbf{\\hat{r}_y}$"
      ],
      "text/plain": [
       "R.y"
      ]
     },
     "execution_count": 3,
     "metadata": {},
     "output_type": "execute_result"
    }
   ],
   "source": [
    "R.y"
   ]
  },
  {
   "cell_type": "code",
   "execution_count": 4,
   "metadata": {},
   "outputs": [
    {
     "data": {
      "text/latex": [
       "$\\displaystyle 2 x_{v} + 3 y_{v}^{2} - \\sin{\\left(z_{v} \\right)}$"
      ],
      "text/plain": [
       "2*x_v + 3*y_v**2 - sin(z_v)"
      ]
     },
     "execution_count": 4,
     "metadata": {},
     "output_type": "execute_result"
    }
   ],
   "source": [
    "from sympy.physics.vector import ReferenceFrame\n",
    "from sympy.physics.vector import gradient\n",
    "R = ReferenceFrame('R')\n",
    "\n",
    "#Define coordinate and time variables\n",
    "#x_v, y_v, z_v, t_v = CoordinateSym('x_v y_v z_v t_v')\n",
    "x_v = CoordinateSym('x_v', R, 0)\n",
    "y_v = CoordinateSym('y_v', R, 1)\n",
    "z_v = CoordinateSym('z_v', R, 2)\n",
    "#t_v = CoordinateSym('t_v', R, 0)\n",
    "\n",
    "#Associate ReferenceFrame with CoordinateSymbols\n",
    "#R.associate_symbols(x_v, y_v, z_v, t_v)\n",
    "\n",
    "vector1 = 2 * x_v + 3 * y_v**2 - sin(z_v)\n",
    "vector1\n",
    "#Output –> 2 * R.x + 6 * y_v * R.y – cos(z_v) * R.z"
   ]
  },
  {
   "cell_type": "code",
   "execution_count": 5,
   "metadata": {},
   "outputs": [
    {
     "data": {
      "text/latex": [
       "$\\displaystyle 2\\mathbf{\\hat{r}_x} + 6 y_{v}\\mathbf{\\hat{r}_y} -  \\operatorname{cos}\\left(z_{v}\\right)\\mathbf{\\hat{r}_z}$"
      ],
      "text/plain": [
       "2*R.x + 6*y_v*R.y - cos(z_v)*R.z"
      ]
     },
     "execution_count": 5,
     "metadata": {},
     "output_type": "execute_result"
    }
   ],
   "source": [
    "gradient(vector1, R)\n",
    "#Output –> 2 * R.x + 6 * y_v * R.y – cos(z_v) * R.z"
   ]
  },
  {
   "cell_type": "code",
   "execution_count": null,
   "metadata": {},
   "outputs": [],
   "source": []
  }
 ],
 "metadata": {
  "kernelspec": {
   "display_name": "Python 3",
   "language": "python",
   "name": "python3"
  },
  "language_info": {
   "codemirror_mode": {
    "name": "ipython",
    "version": 3
   },
   "file_extension": ".py",
   "mimetype": "text/x-python",
   "name": "python",
   "nbconvert_exporter": "python",
   "pygments_lexer": "ipython3",
   "version": "3.7.4"
  }
 },
 "nbformat": 4,
 "nbformat_minor": 2
}
